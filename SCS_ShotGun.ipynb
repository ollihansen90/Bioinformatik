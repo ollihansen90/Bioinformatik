{
  "nbformat": 4,
  "nbformat_minor": 0,
  "metadata": {
    "colab": {
      "name": "SCS_ShotGun.ipynb",
      "provenance": [],
      "collapsed_sections": [],
      "authorship_tag": "ABX9TyM2qS5q8omF54mqFSnRB9ur",
      "include_colab_link": true
    },
    "kernelspec": {
      "name": "python3",
      "display_name": "Python 3"
    },
    "language_info": {
      "name": "python"
    }
  },
  "cells": [
    {
      "cell_type": "markdown",
      "metadata": {
        "id": "view-in-github",
        "colab_type": "text"
      },
      "source": [
        "<a href=\"https://colab.research.google.com/github/ollihansen90/Bioinformatik/blob/main/SCS_ShotGun.ipynb\" target=\"_parent\"><img src=\"https://colab.research.google.com/assets/colab-badge.svg\" alt=\"Open In Colab\"/></a>"
      ]
    },
    {
      "cell_type": "code",
      "metadata": {
        "colab": {
          "base_uri": "https://localhost:8080/"
        },
        "id": "0t2v3JUUpqSr",
        "outputId": "274088e3-9aaf-4b26-a44e-76eee515f752"
      },
      "source": [
        "import random\n",
        "\n",
        "basen = [\"A\", \"C\", \"T\", \"G\"]\n",
        "stringlen = 13\n",
        "\n",
        "string = []\n",
        "for _ in range(stringlen):\n",
        "    string = string+[basen[random.randint(0,3)]]\n",
        "print(\"Kompletter String:\")\n",
        "print(\"\".join(string))\n",
        "\n",
        "n_shots = 6\n",
        "frags = []\n",
        "for _ in range(n_shots):\n",
        "    z1 = random.randint(3,len(string)-6)\n",
        "    z2 = random.randint(z1,len(string)-3)\n",
        "    frags.append(string[:z1])\n",
        "    frags.append(string[z1:z2])\n",
        "    frags.append(string[z2:])\n",
        "\n",
        "print(\"\\nFragmente:\")\n",
        "print(*[\"\".join(frag) for frag in frags], sep=\"\\n\")\n"
      ],
      "execution_count": 41,
      "outputs": [
        {
          "output_type": "stream",
          "name": "stdout",
          "text": [
            "Kompletter String:\n",
            "TCCTTAGTGCAAG\n",
            "\n",
            "Fragmente:\n",
            "TCCT\n",
            "\n",
            "TAGTGCAAG\n",
            "TCC\n",
            "TTA\n",
            "GTGCAAG\n",
            "TCC\n",
            "TTA\n",
            "GTGCAAG\n",
            "TCCT\n",
            "TAGTG\n",
            "CAAG\n",
            "TCCT\n",
            "TAGTGC\n",
            "AAG\n",
            "TCCT\n",
            "TAG\n",
            "TGCAAG\n"
          ]
        }
      ]
    },
    {
      "cell_type": "code",
      "metadata": {
        "id": "MNuooAxcyr4h"
      },
      "source": [
        ""
      ],
      "execution_count": null,
      "outputs": []
    }
  ]
}